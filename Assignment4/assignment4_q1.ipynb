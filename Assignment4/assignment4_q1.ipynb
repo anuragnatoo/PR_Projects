{
 "cells": [
  {
   "cell_type": "code",
   "execution_count": 1,
   "metadata": {},
   "outputs": [],
   "source": [
    "import numpy as np\n",
    "def sigmoid(x):\n",
    "    return 1 / (1 + np.exp(-x))\n",
    "def sigmoid_derivative(x):\n",
    "    return np.multiply(x, 1-x)\n",
    "def tanh(x):\n",
    "    num1=np.exp(x)-np.exp(-1*x)\n",
    "    den1=np.exp(x)+np.exp(-1*x)\n",
    "    return num1/den1\n",
    "def tanh_d(x):\n",
    "    return (1-(tanh(x)*tanh(x)))"
   ]
  },
  {
   "cell_type": "code",
   "execution_count": 2,
   "metadata": {},
   "outputs": [],
   "source": [
    "class NeuralNetwork:\n",
    "    def __init__(self, x, y):\n",
    "        self.input      = x\n",
    "        self.weights1   = np.array([[0.3,0.1,0.2],[0.2,0.1,0.2]])\n",
    "        #print(self.weights1.shape)\n",
    "        self.weights2   = np.array([[0.5,0.1,0.2],[0.4,0.1,0.2]])\n",
    "        #print(self.weights2.shape)\n",
    "        self.y          = y\n",
    "        #print(y.shape)\n",
    "        self.output     = np.zeros(self.y.shape)\n",
    "\n",
    "    def feedforward(self):\n",
    "        self.layer1 = sigmoid(np.dot(self.weights1, self.input))\n",
    "        #print(self.layer1.shape)\n",
    "        self.layer1=np.append(1,self.layer1).reshape(3,1)\n",
    "        #print(self.layer1)\n",
    "        self.output = sigmoid(np.dot(self.weights2, self.layer1))\n",
    "        #print(self.output.shape)\n",
    "        #print(self.output)\n",
    "        \n",
    "    def feedforward2(self):\n",
    "        self.layer1 = tanh(np.dot(self.weights1, self.input))\n",
    "        #print(self.layer1.shape)\n",
    "        self.layer1=np.append(1,self.layer1).reshape(3,1)\n",
    "        #print(self.layer1)\n",
    "        self.output = tanh(np.dot(self.weights2, self.layer1))\n",
    "        #print(self.output.shape)\n",
    "        #print(self.output)\n",
    "\n",
    "    def backprop(self):\n",
    "        # application of the chain rule to find derivative of the loss function with respect to weights2 and weights1\n",
    "        d_weights2 = np.dot(((self.y - self.output)*sigmoid_derivative(self.output)),self.layer1.T)\n",
    "        #print(d_weights2.shape)\n",
    "        a=np.dot(self.weights2.T,(self.y-self.output)*sigmoid_derivative(self.output))*sigmoid_derivative(self.layer1)\n",
    "        #print(a.shape)\n",
    "        self.input=np.delete(self.input, (0), axis=0)\n",
    "        #print(self.input.shape)\n",
    "        #print(self.input)\n",
    "        d_weights1 = np.multiply(self.input,a.T)\n",
    "        #print(d_weights1.shape)\n",
    "        self.input=np.append(1,self.input).reshape(3,1)\n",
    "        # update the weights with the derivative (slope) of the loss function\n",
    "        self.weights1 += d_weights1\n",
    "        self.weights2 += d_weights2\n",
    "    def backprop2(self):\n",
    "        # application of the chain rule to find derivative of the loss function with respect to weights2 and weights1\n",
    "        d_weights2 = np.dot(((self.y - self.output)*tanh_d(self.output)),self.layer1.T)\n",
    "        #print(d_weights2.shape)\n",
    "        a=np.dot(self.weights2.T,(self.y-self.output)*tanh_d(self.output))*tanh_d(self.layer1)\n",
    "        #print(a.shape)\n",
    "        self.input=np.delete(self.input, (0), axis=0)\n",
    "        #print(self.input.shape)\n",
    "        #print(self.input)\n",
    "        d_weights1 = np.multiply(self.input,a.T)\n",
    "        #print(d_weights1.shape)\n",
    "        self.input=np.append(1,self.input).reshape(3,1)\n",
    "        # update the weights with the derivative (slope) of the loss function\n",
    "        self.weights1 += d_weights1\n",
    "        self.weights2 += d_weights2"
   ]
  },
  {
   "cell_type": "code",
   "execution_count": 3,
   "metadata": {},
   "outputs": [
    {
     "name": "stdout",
     "output_type": "stream",
     "text": [
      "Iteration-1:\n",
      "[[0.66174877]\n",
      " [0.63901628]]\n",
      "Iteration- 2 :\n",
      "[[0.46552476]\n",
      " [0.36111098]]\n",
      "Iteration- 3 :\n",
      "[[0.41472705]\n",
      " [0.30447721]]\n",
      "Iteration- 4 :\n",
      "[[0.402506  ]\n",
      " [0.30005176]]\n",
      "Iteration- 5 :\n",
      "[[0.40039573]\n",
      " [0.29999013]]\n",
      "Iteration- 6 :\n",
      "[[0.40006166]\n",
      " [0.29999804]]\n",
      "Iteration- 7 :\n",
      "[[0.40000959]\n",
      " [0.29999968]]\n",
      "Iteration- 8 :\n",
      "[[0.40000149]\n",
      " [0.29999995]]\n",
      "Iteration- 9 :\n",
      "[[0.40000023]\n",
      " [0.29999999]]\n",
      "Iteration- 10 :\n",
      "[[0.40000004]\n",
      " [0.3       ]]\n",
      "Iteration- 11 :\n",
      "[[0.40000001]\n",
      " [0.3       ]]\n",
      "Iteration- 12 :\n",
      "[[0.4]\n",
      " [0.3]]\n"
     ]
    }
   ],
   "source": [
    "X = np.array([1.0,0.1,0.2]).reshape(3,1)\n",
    "y = np.array([0.4,0.3]).reshape(2,1)\n",
    "nn = NeuralNetwork(X,y)\n",
    "for i in range(1):\n",
    "    nn.feedforward()\n",
    "    nn.backprop()\n",
    "    print(\"Iteration-1:\")\n",
    "    print(nn.output)\n",
    "for i in range(11):\n",
    "    nn.feedforward2()\n",
    "    nn.backprop2()\n",
    "    print(\"Iteration-\",i+2,\":\")\n",
    "    print(nn.output)"
   ]
  },
  {
   "cell_type": "markdown",
   "metadata": {},
   "source": [
    "### Convergence is achieved after 12 iterations with Tanh activation function"
   ]
  },
  {
   "cell_type": "code",
   "execution_count": null,
   "metadata": {},
   "outputs": [],
   "source": []
  }
 ],
 "metadata": {
  "kernelspec": {
   "display_name": "Python 3.6",
   "language": "python",
   "name": "python36"
  },
  "language_info": {
   "codemirror_mode": {
    "name": "ipython",
    "version": 3
   },
   "file_extension": ".py",
   "mimetype": "text/x-python",
   "name": "python",
   "nbconvert_exporter": "python",
   "pygments_lexer": "ipython3",
   "version": "3.6.6"
  }
 },
 "nbformat": 4,
 "nbformat_minor": 2
}
