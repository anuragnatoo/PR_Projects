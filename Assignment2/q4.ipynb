{
  "cells": [
    {
      "metadata": {
        "trusted": true
      },
      "cell_type": "code",
      "source": "import numpy as np\nimport matplotlib.pyplot as plt\nimport pandas as pd\nfrom statistics import mean\nfrom sympy import *\ndataset=pd.read_csv(\"iris.csv\")\n'''\nPrinting all feature vectors in this cell.\n'''\n#Setosa---\ntrain_set_dim_1=np.array(dataset[\"sepal.length\"][0:40])\n#print(train_set_dim_1)\ntrain_set_dim_2=np.array(dataset[\"sepal.width\"][0:40])\n#print(train_set_dim_2)\ntrain_set_dim_3=np.array(dataset[\"petal.length\"][0:40])\n#print(train_set_dim_3)\ntrain_set_dim_4=np.array(dataset[\"petal.width\"][0:40])\n#print(train_set_dim_4)\n\n#Versicolor---\ntrain_ver_dim_1=np.array(dataset[\"sepal.length\"][50:90])\n#print(train_ver_dim_1)\ntrain_ver_dim_2=np.array(dataset[\"sepal.width\"][50:90])\n#print(train_ver_dim_2)\ntrain_ver_dim_3=np.array(dataset[\"petal.length\"][50:90])\n#print(train_ver_dim_3)\ntrain_ver_dim_4=np.array(dataset[\"petal.width\"][50:90])\n#print(train_ver_dim_4)\n\n#Virginica---\ntrain_vir_dim_1=np.array(dataset[\"sepal.length\"][100:140])\n#print(train_vir_dim_1)\ntrain_vir_dim_2=np.array(dataset[\"sepal.width\"][100:140])\n#print(train_vir_dim_2)\ntrain_vir_dim_3=np.array(dataset[\"petal.length\"][100:140])\n#print(train_vir_dim_3)\ntrain_vir_dim_4=np.array(dataset[\"petal.width\"][100:140])\n#print(train_vir_dim_4)\n",
      "execution_count": 1,
      "outputs": []
    },
    {
      "metadata": {
        "trusted": true
      },
      "cell_type": "code",
      "source": "'''\nPrinting all the test vectors in this cell\n'''\n#Setosa---\ntest_set_dim_1=np.array(dataset[\"sepal.length\"][40:50])\n#print(test_set_dim_1)\ntest_set_dim_2=np.array(dataset[\"sepal.width\"][40:50])\n#print(test_set_dim_2)\ntest_set_dim_3=np.array(dataset[\"petal.length\"][40:50])\n#print(test_set_dim_3)\ntest_set_dim_4=np.array(dataset[\"petal.width\"][40:50])\n#print(test_set_dim_4)\n\n#Versicolor---\ntest_ver_dim_1=np.array(dataset[\"sepal.length\"][90:100])\n#print(test_ver_dim_1)\ntest_ver_dim_2=np.array(dataset[\"sepal.width\"][90:100])\n#print(test_ver_dim_2)\ntest_ver_dim_3=np.array(dataset[\"petal.length\"][90:100])\n#print(test_ver_dim_3)\ntest_ver_dim_4=np.array(dataset[\"petal.width\"][90:100])\n#print(test_ver_dim_4)\n\n#Virginica---\ntest_vir_dim_1=np.array(dataset[\"sepal.length\"][140:150])\n#print(test_vir_dim_1)\ntest_vir_dim_2=np.array(dataset[\"sepal.width\"][140:150])\n#print(test_vir_dim_2)\ntest_vir_dim_3=np.array(dataset[\"petal.length\"][140:150])\n#print(test_vir_dim_3)\ntest_vir_dim_4=np.array(dataset[\"petal.width\"][140:150])\nprint(test_vir_dim_4)\n\n# All Test Cases in one Array\nfinal_test_case_dim1=np.concatenate([test_set_dim_1,test_ver_dim_1,test_vir_dim_1])\n#print(np.shape(final_test_case_dim1))\nfinal_test_case_dim2=np.concatenate([test_set_dim_2,test_ver_dim_2,test_vir_dim_2])\nfinal_test_case_dim3=np.concatenate([test_set_dim_3,test_ver_dim_3,test_vir_dim_3])\nfinal_test_case_dim4=np.concatenate([test_set_dim_4,test_ver_dim_4,test_vir_dim_4])",
      "execution_count": 2,
      "outputs": [
        {
          "output_type": "stream",
          "text": "[2.4 2.3 1.9 2.3 2.5 2.3 1.9 2.  2.3 1.8]\n",
          "name": "stdout"
        }
      ]
    },
    {
      "metadata": {
        "trusted": true,
        "scrolled": true
      },
      "cell_type": "code",
      "source": "#Covariance Matrix Calculation\n#Setosa---\nset_train_matrix=np.matrix([train_set_dim_1,train_set_dim_2,train_set_dim_3,train_set_dim_4])\n#print(set_train_matrix)\ntrain_set_matrix=np.transpose(set_train_matrix)\n#print(train_set_matrix)\n\n#Versicolor--\nver_train_matrix=np.matrix([train_ver_dim_1,train_ver_dim_2,train_ver_dim_3,train_ver_dim_4])\n#print(ver_train_matrix)\ntrain_ver_matrix=np.transpose(ver_train_matrix)\n#print(train_ver_matrix)\n\n#Virginica---\nvir_train_matrix=np.matrix([train_vir_dim_1,train_vir_dim_2,train_vir_dim_3,train_vir_dim_4])\n#print(vir_train_matrix)\ntrain_vir_matrix=np.transpose(vir_train_matrix)\n#print(train_vir_matrix)\n\nset_cov_matrix=np.cov(set_train_matrix)\n#print(set_cov_matrix)\n#print(np.shape(set_cov_matrix))\n#print(np.shape(set_train_matrix))\n\nver_cov_matrix=np.cov(ver_train_matrix)\n#print(ver_cov_matrix)\n#print(np.shape(ver_cov_matrix))\n\nvir_cov_matrix=np.cov(vir_train_matrix)\nprint(vir_cov_matrix)\nprint(np.shape(vir_cov_matrix))",
      "execution_count": 3,
      "outputs": [
        {
          "output_type": "stream",
          "text": "[[0.46794231 0.11041026 0.35777564 0.05125641]\n [0.11041026 0.11323077 0.08107692 0.04625641]\n [0.35777564 0.08107692 0.34532692 0.05930769]\n [0.05125641 0.04625641 0.05930769 0.07425641]]\n(4, 4)\n",
          "name": "stdout"
        }
      ]
    },
    {
      "metadata": {
        "trusted": true
      },
      "cell_type": "code",
      "source": "'''\nInverse of Covariance Matrices\n'''\nset_covinv_matrix=np.linalg.inv(set_cov_matrix)\nset_coeff_a=(-0.5)*set_covinv_matrix\n#print(set_covinv_matrix)\n#print(set_coeff_a)\n#print(np.shape(set_coeff_a))\n\nver_covinv_matrix=np.linalg.inv(ver_cov_matrix)\nver_coeff_a=(-0.5)*ver_covinv_matrix\n#print(ver_covinv_matrix)\n#print(ver_coeff_a)\n\nvir_covinv_matrix=np.linalg.inv(vir_cov_matrix)\nvir_coeff_a=(-0.5)*vir_covinv_matrix\n#print(np.shape(vir_coeff_a))\n#print(vir_coeff_a)\n#print(vir_covinv_matrix)\n",
      "execution_count": 4,
      "outputs": []
    },
    {
      "metadata": {
        "trusted": true
      },
      "cell_type": "code",
      "source": "set_mean_dim_1=mean(train_set_dim_1)\nprint(set_mean_dim_1)\nset_mean_dim_2=mean(train_set_dim_2)\nprint(set_mean_dim_2)\nset_mean_dim_3=mean(train_set_dim_3)\nprint(set_mean_dim_3)\nset_mean_dim_4=mean(train_set_dim_4)\nprint(set_mean_dim_4)\n\nver_mean_dim_1=mean(train_ver_dim_1)\nprint(ver_mean_dim_1)\nver_mean_dim_2=mean(train_ver_dim_2)\nprint(ver_mean_dim_2)\nver_mean_dim_3=mean(train_ver_dim_3)\nprint(ver_mean_dim_3)\nver_mean_dim_4=mean(train_ver_dim_4)\nprint(ver_mean_dim_4)\n\nvir_mean_dim_1=mean(train_vir_dim_1)\nprint(vir_mean_dim_1)\nvir_mean_dim_2=mean(train_vir_dim_2)\nprint(vir_mean_dim_2)\nvir_mean_dim_3=mean(train_vir_dim_3)\nprint(vir_mean_dim_3)\nvir_mean_dim_4=mean(train_vir_dim_4)\nprint(vir_mean_dim_4)\n\nset_mean_matrix=np.matrix([set_mean_dim_1,set_mean_dim_2,set_mean_dim_3,set_mean_dim_4])\nprint(np.shape(set_mean_matrix))\nver_mean_matrix=np.matrix([ver_mean_dim_1,ver_mean_dim_2,ver_mean_dim_3,ver_mean_dim_4])\nprint(np.shape(ver_mean_matrix))\nvir_mean_matrix=np.matrix([vir_mean_dim_1,vir_mean_dim_2,vir_mean_dim_3,vir_mean_dim_4])\nprint(np.shape(vir_mean_matrix))\n\nset_coeff_b=set_mean_matrix*set_covinv_matrix\nprint(set_coeff_b)\nprint(np.shape(set_coeff_b))\n\nver_coeff_b=ver_mean_matrix*ver_covinv_matrix\nprint(ver_coeff_b)\nprint(np.shape(ver_coeff_b))\n\nvir_coeff_b=vir_mean_matrix*vir_covinv_matrix\nprint(vir_coeff_b)\nprint(np.shape(vir_coeff_b))\n\ndet_set_1=np.linalg.det(set_covinv_matrix)\ndet_ver_1=np.linalg.det(ver_covinv_matrix)\ndet_vir_1=np.linalg.det(vir_covinv_matrix)\ndet_set_2=-0.5*np.log(abs(det_set_1))\nprint(det_set_2)\ndet_ver_2=-0.5*np.log(abs(det_ver_1))\nprint(det_ver_2)\ndet_vir_2=-0.5*np.log(abs(det_vir_1))\nprint(det_vir_2)\n",
      "execution_count": 5,
      "outputs": [
        {
          "output_type": "stream",
          "text": "5.0375\n3.4525\n1.46\n0.23500000000000001\n6.01\n2.78\n4.3175\n1.35\n6.6225000000000005\n2.96\n5.6075\n1.99\n(1, 4)\n(1, 4)\n(1, 4)\n[[ 37.70655527   2.53145821  41.05721007 -52.76625548]]\n(1, 4)\n[[ 15.15042183  13.49365541   9.20624559 -17.02892065]]\n(1, 4)\n[[ 6.27878118 11.90446426  5.04560889 11.01953368]]\n(1, 4)\n-6.684393746928639\n-5.340797493431532\n-4.427079551870341\n",
          "name": "stdout"
        }
      ]
    },
    {
      "metadata": {
        "trusted": true
      },
      "cell_type": "code",
      "source": "#Coefficient C\nset_coeff_c=-0.5*set_mean_matrix*((set_covinv_matrix*np.transpose(set_mean_matrix)))+det_set_2\nprint(set_coeff_c)\nprint(np.shape(set_mean_matrix))\n\nver_coeff_c=-0.5*ver_mean_matrix*((ver_covinv_matrix*np.transpose(ver_mean_matrix)))+det_ver_2\nprint(ver_coeff_c)\nprint(np.shape(ver_mean_matrix))\n\nvir_coeff_c=-0.5*vir_mean_matrix*((vir_covinv_matrix*np.transpose(vir_mean_matrix)))+det_vir_2\nprint(vir_coeff_c)\nprint(np.shape(vir_mean_matrix))",
      "execution_count": 6,
      "outputs": [
        {
          "output_type": "stream",
          "text": "[[-129.79943791]]\n(1, 4)\n[[-78.00345736]]\n(1, 4)\n[[-67.94736277]]\n(1, 4)\n",
          "name": "stdout"
        }
      ]
    },
    {
      "metadata": {
        "trusted": true
      },
      "cell_type": "code",
      "source": "x1,x2,x3,x4=symbols('x y z u')\nmatrix_var=Matrix([[x1],[x2],[x3],[x4]])\nprint(np.shape(matrix_var))\ng_set_val=np.dot(np.dot(matrix_var.T,set_coeff_a),matrix_var)[0][0]+np.dot(set_coeff_b,matrix_var)[0][0]+set_coeff_c\nprint(g_set_val)\ng_ver_val=np.dot(np.dot(matrix_var.T,ver_coeff_a),matrix_var)[0][0]+np.dot(ver_coeff_b,matrix_var)[0][0]+ver_coeff_c\nprint(g_ver_val)\ng_vir_val=np.dot(np.dot(matrix_var.T,vir_coeff_a),matrix_var)[0][0]+np.dot(vir_coeff_b,matrix_var)[0][0]+vir_coeff_c\nprint(g_vir_val)",
      "execution_count": 7,
      "outputs": [
        {
          "output_type": "stream",
          "text": "(4, 1)\n[[u*(-66.5108585288553*u + 2.99673462386212*x + 3.71171259158741*y + 9.6592062366384*z) - 52.766255482744*u + x*(2.99673462386212*u - 9.40730940212636*x + 6.69236764433759*y + 3.23726818400033*z) + 37.7065552717759*x + y*(3.71171259158741*u + 6.69236764433759*x - 9.12523533228593*y - 2.97664971894002*z) + 2.53145821399192*y + z*(9.6592062366384*u + 3.23726818400033*x - 2.97664971894002*y - 19.7461464547321*z) + 41.0572100720753*z - 129.79943791301]]\n[[u*(-43.2529763049804*u - 4.80147350672743*x + 9.95170539532626*y + 15.7723435117786*z) - 17.0289206479117*u + x*(-4.80147350672744*u - 4.56666667100892*x + 2.03820392441794*y + 4.79125375789236*z) + 15.150421834527*x + y*(9.95170539532626*u + 2.03820392441794*x - 8.85589804214042*y - 1.80934314273815*z) + 13.4936554129601*y + z*(15.7723435117786*u + 4.79125375789236*x - 1.80934314273815*y - 11.502315618519*z) + 9.20624558786682*z - 78.0034573556669]]\n[[u*(-10.2359581439799*u - 2.19318509747476*x + 4.12835936680969*y + 3.06093882278131*z) + 11.0195336800875*u + x*(-2.19318509747476*u - 6.03387186822554*x + 2.44458189824251*y + 6.05410642561188*z) + 6.27878118176398*x + y*(4.12835936680969*u + 2.44458189824251*x - 7.41057117777713*y - 1.50184934550699*z) + 11.904464260177*y + z*(3.06093882278131*u + 6.05410642561188*x - 1.50184934550699*y - 7.89334256648431*z) + 5.04560888662395*z - 67.9473627726072]]\n",
          "name": "stdout"
        }
      ]
    },
    {
      "metadata": {
        "trusted": true
      },
      "cell_type": "code",
      "source": "#Calculation--\nfinal_test_vector_t=np.array([final_test_case_dim1,final_test_case_dim2,final_test_case_dim3,final_test_case_dim4])\nfinal_test_vector=np.transpose(final_test_vector_t)\nprint(np.shape(final_test_vector))\npredicted_class=[]\nactual_class=[]\nfor i in range(30):\n    if i<10:\n        actual_class.append(1)\n    elif i>=10 and i<20:\n        actual_class.append(2)\n    else:\n        actual_class.append(3)\nprint(actual_class)",
      "execution_count": 8,
      "outputs": [
        {
          "output_type": "stream",
          "text": "(30, 4)\n[1, 1, 1, 1, 1, 1, 1, 1, 1, 1, 2, 2, 2, 2, 2, 2, 2, 2, 2, 2, 3, 3, 3, 3, 3, 3, 3, 3, 3, 3]\n",
          "name": "stdout"
        }
      ]
    },
    {
      "metadata": {
        "trusted": true
      },
      "cell_type": "code",
      "source": "for i in range(30):\n    a1=final_test_vector[i][0]\n    b1=final_test_vector[i][1]\n    c1=final_test_vector[i][2]\n    d1=final_test_vector[i][3]\n    mat=np.array([a1,b1,c1,d1])\n    g_set_val=np.dot(np.dot(mat.T,set_coeff_a),mat)+np.dot(set_coeff_b,mat)+set_coeff_c\n    #print(g_set_val)\n    g_ver_val=np.dot(np.dot(mat.T,ver_coeff_a),mat)+np.dot(ver_coeff_b,mat)+ver_coeff_c\n    #print(g_ver_val)\n    g_vir_val=np.dot(np.dot(mat.T,vir_coeff_a),mat)+np.dot(vir_coeff_b,mat)+vir_coeff_c\n    #print(g_vir_val)\n    if g_set_val>g_ver_val and g_set_val>g_vir_val:\n        predicted_class.append(1)\n        print('Flower',i,\"belongs to Setosa\")\n    elif g_ver_val>g_set_val and g_ver_val>g_vir_val:\n        predicted_class.append(2)\n        print('Flower',i,\"belongs to Versicolor\")\n    elif g_vir_val>g_set_val and g_vir_val>g_set_val:\n        predicted_class.append(3)\n        print('Flower',i,\"belongs to Virginica\")\n        \n#print(predicted_class)\n",
      "execution_count": 9,
      "outputs": []
    },
    {
      "metadata": {
        "trusted": true
      },
      "cell_type": "code",
      "source": "print(predicted_class)",
      "execution_count": 12,
      "outputs": [
        {
          "output_type": "stream",
          "text": "[1, 1, 1, 1, 1, 1, 1, 1, 1, 1, 2, 2, 2, 2, 2, 2, 2, 2, 2, 2, 3, 3, 3, 3, 3, 3, 3, 3, 3, 3]\n",
          "name": "stdout"
        }
      ]
    },
    {
      "metadata": {
        "trusted": true
      },
      "cell_type": "code",
      "source": "accuracy=0",
      "execution_count": 13,
      "outputs": []
    },
    {
      "metadata": {
        "trusted": true
      },
      "cell_type": "code",
      "source": "for i in range(30):\n    if actual_class[i]==predicted_class[i]:\n        accuracy=accuracy+1\naccuracy_percentage=(accuracy/30)*100\nprint(\"Percentage Accuracy of Classifier is\",accuracy_percentage,\"%\")",
      "execution_count": 14,
      "outputs": [
        {
          "output_type": "stream",
          "text": "Percentage Accuracy of Classifier is 100.0 %\n",
          "name": "stdout"
        }
      ]
    },
    {
      "metadata": {
        "trusted": true
      },
      "cell_type": "code",
      "source": "",
      "execution_count": null,
      "outputs": []
    }
  ],
  "metadata": {
    "kernelspec": {
      "name": "python36",
      "display_name": "Python 3.6",
      "language": "python"
    },
    "language_info": {
      "mimetype": "text/x-python",
      "nbconvert_exporter": "python",
      "name": "python",
      "pygments_lexer": "ipython3",
      "version": "3.6.6",
      "file_extension": ".py",
      "codemirror_mode": {
        "version": 3,
        "name": "ipython"
      }
    }
  },
  "nbformat": 4,
  "nbformat_minor": 2
}